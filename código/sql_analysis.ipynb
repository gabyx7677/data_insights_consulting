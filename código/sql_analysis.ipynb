{
 "cells": [
  {
   "cell_type": "markdown",
   "id": "88658c33",
   "metadata": {},
   "source": [
    "## **Sección 1: Manejo de Bases de Datos** "
   ]
  },
  {
   "cell_type": "markdown",
   "id": "ce54c8f1",
   "metadata": {},
   "source": [
    "# **`data_insights_consulting`**"
   ]
  },
  {
   "cell_type": "markdown",
   "id": "41c666f1",
   "metadata": {},
   "source": [
    "### **Objetivo**\n",
    "Esta sección tiene como propósito evaluar las habilidades prácticas en el manejo de bases de datos utilizando SQL. Se busca demostrar la capacidad de realizar consultas, emplear funciones de agregación, manejar múltiples tablas y generar vistas que faciliten el análisis de la información.\n",
    "\n",
    "### **Descripción**\n",
    "Se cuenta con una base de datos relacional que contiene información de clientes, pedidos, productos y detalles de los pedidos. A partir de estas tablas se desarrollarán las siguientes tareas:\n",
    "\n",
    "1. Determinar la cantidad total de productos vendidos por cada categoría.\n",
    "2. Calcular el total acumulado gastado por cada cliente en el tiempo, ordenado por fecha del pedido.\n",
    "3. Identificar los productos que nunca han sido vendidos.\n",
    "4. Crear una vista llamada `customer_order_summary` que muestre:  \n",
    "   - Nombre del cliente  \n",
    "   - Número total de pedidos  \n",
    "   - Total gastado  \n",
    "\n",
    "Los resultados se mostrarán en tablas y se incluirá una interpretación para cada consulta.\n",
    "\n"
   ]
  },
  {
   "cell_type": "markdown",
   "id": "2740a24b",
   "metadata": {},
   "source": [
    "### **Carga de datos** \n",
    "\n",
    "Se utiliza un archivo `.sqlite` para simular un entorno de base de datos real, permitiendo ejecutar consultas SQL directamente y mantener las relaciones entre tablas sin procesos previos de carga o transformación.\n"
   ]
  },
  {
   "cell_type": "markdown",
   "id": "921e91f6",
   "metadata": {},
   "source": [
    "### **Estructura de tablas**\n",
    "\n",
    "**CUSTOMERS**  \n",
    "- **id**: Identificador único del cliente.  \n",
    "- **name**: Nombre completo del cliente.  \n",
    "- **email**: Correo electrónico del cliente.  \n",
    "- **created_at**: Fecha de registro del cliente.  \n",
    "\n",
    "**ORDERS**  \n",
    "- **id**: Identificador único del pedido.  \n",
    "- **customer_id**: ID del cliente que realizó el pedido.  \n",
    "- **order_date**: Fecha en que se realizó el pedido.  \n",
    "- **total_amount**: Monto total del pedido.  \n",
    "\n",
    "**ORDER ITEMS**  \n",
    "- **id**: Identificador único del detalle del pedido.  \n",
    "- **order_id**: ID del pedido al que pertenece el artículo.  \n",
    "- **product_id**: ID del producto vendido.  \n",
    "- **quantity**: Cantidad de unidades vendidas.  \n",
    "- **unit_price**: Precio unitario del producto.  \n",
    "\n",
    "**PRODUCTS**  \n",
    "- **id**: Identificador único del producto.  \n",
    "- **name**: Nombre del producto.  \n",
    "- **category**: Categoría del producto.  \n"
   ]
  },
  {
   "cell_type": "code",
   "execution_count": 1,
   "id": "fe24209d",
   "metadata": {},
   "outputs": [],
   "source": [
    "import sqlite3\n",
    "import pandas as pd\n",
    "\n",
    "# Conexión a la base\n",
    "conn = sqlite3.connect('../datasets/sqlite/base_datos.sqlite')\n",
    "\n",
    "# Lectura de las tablas\n",
    "customers = pd.read_sql_query(\"SELECT * FROM customers\", conn)\n",
    "orders = pd.read_sql_query(\"SELECT * FROM orders\", conn)\n",
    "order_items = pd.read_sql_query(\"SELECT * FROM order_items\", conn)\n",
    "products = pd.read_sql_query(\"SELECT * FROM products\", conn)"
   ]
  },
  {
   "cell_type": "code",
   "execution_count": 2,
   "id": "de409b67",
   "metadata": {},
   "outputs": [
    {
     "data": {
      "application/vnd.microsoft.datawrangler.viewer.v0+json": {
       "columns": [
        {
         "name": "index",
         "rawType": "int64",
         "type": "integer"
        },
        {
         "name": "id",
         "rawType": "int64",
         "type": "integer"
        },
        {
         "name": "name",
         "rawType": "object",
         "type": "string"
        },
        {
         "name": "email",
         "rawType": "object",
         "type": "string"
        },
        {
         "name": "created_at",
         "rawType": "object",
         "type": "string"
        }
       ],
       "ref": "5b5f2bab-fd04-45d8-91e8-39b8258cd7ca",
       "rows": [
        [
         "0",
         "1",
         "Juan Pérez",
         "juan@email.com",
         "2023-01-15"
        ],
        [
         "1",
         "2",
         "Laura Gómez",
         "laura@email.com",
         "2023-02-10"
        ]
       ],
       "shape": {
        "columns": 4,
        "rows": 2
       }
      },
      "text/html": [
       "<div>\n",
       "<style scoped>\n",
       "    .dataframe tbody tr th:only-of-type {\n",
       "        vertical-align: middle;\n",
       "    }\n",
       "\n",
       "    .dataframe tbody tr th {\n",
       "        vertical-align: top;\n",
       "    }\n",
       "\n",
       "    .dataframe thead th {\n",
       "        text-align: right;\n",
       "    }\n",
       "</style>\n",
       "<table border=\"1\" class=\"dataframe\">\n",
       "  <thead>\n",
       "    <tr style=\"text-align: right;\">\n",
       "      <th></th>\n",
       "      <th>id</th>\n",
       "      <th>name</th>\n",
       "      <th>email</th>\n",
       "      <th>created_at</th>\n",
       "    </tr>\n",
       "  </thead>\n",
       "  <tbody>\n",
       "    <tr>\n",
       "      <th>0</th>\n",
       "      <td>1</td>\n",
       "      <td>Juan Pérez</td>\n",
       "      <td>juan@email.com</td>\n",
       "      <td>2023-01-15</td>\n",
       "    </tr>\n",
       "    <tr>\n",
       "      <th>1</th>\n",
       "      <td>2</td>\n",
       "      <td>Laura Gómez</td>\n",
       "      <td>laura@email.com</td>\n",
       "      <td>2023-02-10</td>\n",
       "    </tr>\n",
       "  </tbody>\n",
       "</table>\n",
       "</div>"
      ],
      "text/plain": [
       "   id         name            email  created_at\n",
       "0   1   Juan Pérez   juan@email.com  2023-01-15\n",
       "1   2  Laura Gómez  laura@email.com  2023-02-10"
      ]
     },
     "execution_count": 2,
     "metadata": {},
     "output_type": "execute_result"
    }
   ],
   "source": [
    "customers"
   ]
  },
  {
   "cell_type": "code",
   "execution_count": 3,
   "id": "b1460b57",
   "metadata": {},
   "outputs": [
    {
     "data": {
      "application/vnd.microsoft.datawrangler.viewer.v0+json": {
       "columns": [
        {
         "name": "index",
         "rawType": "int64",
         "type": "integer"
        },
        {
         "name": "id",
         "rawType": "int64",
         "type": "integer"
        },
        {
         "name": "customer_id",
         "rawType": "int64",
         "type": "integer"
        },
        {
         "name": "order_date",
         "rawType": "object",
         "type": "string"
        },
        {
         "name": "total_amount",
         "rawType": "float64",
         "type": "float"
        }
       ],
       "ref": "e1d2f3be-e72f-4f68-b5df-fd11c030bcc7",
       "rows": [
        [
         "0",
         "1",
         "1",
         "2023-04-10",
         "150.0"
        ],
        [
         "1",
         "2",
         "2",
         "2023-05-20",
         "200.0"
        ],
        [
         "2",
         "3",
         "1",
         "2023-06-05",
         "75.0"
        ]
       ],
       "shape": {
        "columns": 4,
        "rows": 3
       }
      },
      "text/html": [
       "<div>\n",
       "<style scoped>\n",
       "    .dataframe tbody tr th:only-of-type {\n",
       "        vertical-align: middle;\n",
       "    }\n",
       "\n",
       "    .dataframe tbody tr th {\n",
       "        vertical-align: top;\n",
       "    }\n",
       "\n",
       "    .dataframe thead th {\n",
       "        text-align: right;\n",
       "    }\n",
       "</style>\n",
       "<table border=\"1\" class=\"dataframe\">\n",
       "  <thead>\n",
       "    <tr style=\"text-align: right;\">\n",
       "      <th></th>\n",
       "      <th>id</th>\n",
       "      <th>customer_id</th>\n",
       "      <th>order_date</th>\n",
       "      <th>total_amount</th>\n",
       "    </tr>\n",
       "  </thead>\n",
       "  <tbody>\n",
       "    <tr>\n",
       "      <th>0</th>\n",
       "      <td>1</td>\n",
       "      <td>1</td>\n",
       "      <td>2023-04-10</td>\n",
       "      <td>150.0</td>\n",
       "    </tr>\n",
       "    <tr>\n",
       "      <th>1</th>\n",
       "      <td>2</td>\n",
       "      <td>2</td>\n",
       "      <td>2023-05-20</td>\n",
       "      <td>200.0</td>\n",
       "    </tr>\n",
       "    <tr>\n",
       "      <th>2</th>\n",
       "      <td>3</td>\n",
       "      <td>1</td>\n",
       "      <td>2023-06-05</td>\n",
       "      <td>75.0</td>\n",
       "    </tr>\n",
       "  </tbody>\n",
       "</table>\n",
       "</div>"
      ],
      "text/plain": [
       "   id  customer_id  order_date  total_amount\n",
       "0   1            1  2023-04-10         150.0\n",
       "1   2            2  2023-05-20         200.0\n",
       "2   3            1  2023-06-05          75.0"
      ]
     },
     "execution_count": 3,
     "metadata": {},
     "output_type": "execute_result"
    }
   ],
   "source": [
    "orders"
   ]
  },
  {
   "cell_type": "code",
   "execution_count": 4,
   "id": "74ef9c6d",
   "metadata": {},
   "outputs": [
    {
     "data": {
      "application/vnd.microsoft.datawrangler.viewer.v0+json": {
       "columns": [
        {
         "name": "index",
         "rawType": "int64",
         "type": "integer"
        },
        {
         "name": "id",
         "rawType": "int64",
         "type": "integer"
        },
        {
         "name": "order_id",
         "rawType": "int64",
         "type": "integer"
        },
        {
         "name": "product_id",
         "rawType": "int64",
         "type": "integer"
        },
        {
         "name": "quantity",
         "rawType": "int64",
         "type": "integer"
        },
        {
         "name": "unit_price",
         "rawType": "float64",
         "type": "float"
        }
       ],
       "ref": "4f7c95a7-d7c2-46ee-a0fc-52129e1725d4",
       "rows": [
        [
         "0",
         "1",
         "1",
         "10",
         "2",
         "50.0"
        ],
        [
         "1",
         "2",
         "1",
         "11",
         "1",
         "50.0"
        ],
        [
         "2",
         "3",
         "2",
         "12",
         "4",
         "50.0"
        ]
       ],
       "shape": {
        "columns": 5,
        "rows": 3
       }
      },
      "text/html": [
       "<div>\n",
       "<style scoped>\n",
       "    .dataframe tbody tr th:only-of-type {\n",
       "        vertical-align: middle;\n",
       "    }\n",
       "\n",
       "    .dataframe tbody tr th {\n",
       "        vertical-align: top;\n",
       "    }\n",
       "\n",
       "    .dataframe thead th {\n",
       "        text-align: right;\n",
       "    }\n",
       "</style>\n",
       "<table border=\"1\" class=\"dataframe\">\n",
       "  <thead>\n",
       "    <tr style=\"text-align: right;\">\n",
       "      <th></th>\n",
       "      <th>id</th>\n",
       "      <th>order_id</th>\n",
       "      <th>product_id</th>\n",
       "      <th>quantity</th>\n",
       "      <th>unit_price</th>\n",
       "    </tr>\n",
       "  </thead>\n",
       "  <tbody>\n",
       "    <tr>\n",
       "      <th>0</th>\n",
       "      <td>1</td>\n",
       "      <td>1</td>\n",
       "      <td>10</td>\n",
       "      <td>2</td>\n",
       "      <td>50.0</td>\n",
       "    </tr>\n",
       "    <tr>\n",
       "      <th>1</th>\n",
       "      <td>2</td>\n",
       "      <td>1</td>\n",
       "      <td>11</td>\n",
       "      <td>1</td>\n",
       "      <td>50.0</td>\n",
       "    </tr>\n",
       "    <tr>\n",
       "      <th>2</th>\n",
       "      <td>3</td>\n",
       "      <td>2</td>\n",
       "      <td>12</td>\n",
       "      <td>4</td>\n",
       "      <td>50.0</td>\n",
       "    </tr>\n",
       "  </tbody>\n",
       "</table>\n",
       "</div>"
      ],
      "text/plain": [
       "   id  order_id  product_id  quantity  unit_price\n",
       "0   1         1          10         2        50.0\n",
       "1   2         1          11         1        50.0\n",
       "2   3         2          12         4        50.0"
      ]
     },
     "execution_count": 4,
     "metadata": {},
     "output_type": "execute_result"
    }
   ],
   "source": [
    "order_items"
   ]
  },
  {
   "cell_type": "code",
   "execution_count": 5,
   "id": "b45c182b",
   "metadata": {},
   "outputs": [
    {
     "data": {
      "application/vnd.microsoft.datawrangler.viewer.v0+json": {
       "columns": [
        {
         "name": "index",
         "rawType": "int64",
         "type": "integer"
        },
        {
         "name": "id",
         "rawType": "int64",
         "type": "integer"
        },
        {
         "name": "name",
         "rawType": "object",
         "type": "string"
        },
        {
         "name": "category",
         "rawType": "object",
         "type": "string"
        }
       ],
       "ref": "5a0e15f7-d596-4397-aab1-514fcf94cbbd",
       "rows": [
        [
         "0",
         "10",
         "Laptop",
         "Electrónica"
        ],
        [
         "1",
         "11",
         "Mouse",
         "Electrónica"
        ],
        [
         "2",
         "12",
         "Silla Oficina",
         "Muebles"
        ]
       ],
       "shape": {
        "columns": 3,
        "rows": 3
       }
      },
      "text/html": [
       "<div>\n",
       "<style scoped>\n",
       "    .dataframe tbody tr th:only-of-type {\n",
       "        vertical-align: middle;\n",
       "    }\n",
       "\n",
       "    .dataframe tbody tr th {\n",
       "        vertical-align: top;\n",
       "    }\n",
       "\n",
       "    .dataframe thead th {\n",
       "        text-align: right;\n",
       "    }\n",
       "</style>\n",
       "<table border=\"1\" class=\"dataframe\">\n",
       "  <thead>\n",
       "    <tr style=\"text-align: right;\">\n",
       "      <th></th>\n",
       "      <th>id</th>\n",
       "      <th>name</th>\n",
       "      <th>category</th>\n",
       "    </tr>\n",
       "  </thead>\n",
       "  <tbody>\n",
       "    <tr>\n",
       "      <th>0</th>\n",
       "      <td>10</td>\n",
       "      <td>Laptop</td>\n",
       "      <td>Electrónica</td>\n",
       "    </tr>\n",
       "    <tr>\n",
       "      <th>1</th>\n",
       "      <td>11</td>\n",
       "      <td>Mouse</td>\n",
       "      <td>Electrónica</td>\n",
       "    </tr>\n",
       "    <tr>\n",
       "      <th>2</th>\n",
       "      <td>12</td>\n",
       "      <td>Silla Oficina</td>\n",
       "      <td>Muebles</td>\n",
       "    </tr>\n",
       "  </tbody>\n",
       "</table>\n",
       "</div>"
      ],
      "text/plain": [
       "   id           name     category\n",
       "0  10         Laptop  Electrónica\n",
       "1  11          Mouse  Electrónica\n",
       "2  12  Silla Oficina      Muebles"
      ]
     },
     "execution_count": 5,
     "metadata": {},
     "output_type": "execute_result"
    }
   ],
   "source": [
    "products"
   ]
  },
  {
   "cell_type": "markdown",
   "id": "cca1d6e3",
   "metadata": {},
   "source": [
    "### **1. Productos vendidos por categoría**\n",
    "Se determina la cantidad total de productos vendidos por cada categoría utilizando las tablas `order_items` y `products`. El objetivo es identificar cuáles categorías han tenido mayor rotación en ventas.\n"
   ]
  },
  {
   "cell_type": "code",
   "execution_count": 6,
   "id": "560031a0",
   "metadata": {},
   "outputs": [
    {
     "data": {
      "application/vnd.microsoft.datawrangler.viewer.v0+json": {
       "columns": [
        {
         "name": "index",
         "rawType": "int64",
         "type": "integer"
        },
        {
         "name": "categoria",
         "rawType": "object",
         "type": "string"
        },
        {
         "name": "total_vendidos",
         "rawType": "int64",
         "type": "integer"
        }
       ],
       "ref": "43e5bd60-e541-4838-9c1c-0937deab8635",
       "rows": [
        [
         "0",
         "Muebles",
         "4"
        ],
        [
         "1",
         "Electrónica",
         "3"
        ]
       ],
       "shape": {
        "columns": 2,
        "rows": 2
       }
      },
      "text/html": [
       "<div>\n",
       "<style scoped>\n",
       "    .dataframe tbody tr th:only-of-type {\n",
       "        vertical-align: middle;\n",
       "    }\n",
       "\n",
       "    .dataframe tbody tr th {\n",
       "        vertical-align: top;\n",
       "    }\n",
       "\n",
       "    .dataframe thead th {\n",
       "        text-align: right;\n",
       "    }\n",
       "</style>\n",
       "<table border=\"1\" class=\"dataframe\">\n",
       "  <thead>\n",
       "    <tr style=\"text-align: right;\">\n",
       "      <th></th>\n",
       "      <th>categoria</th>\n",
       "      <th>total_vendidos</th>\n",
       "    </tr>\n",
       "  </thead>\n",
       "  <tbody>\n",
       "    <tr>\n",
       "      <th>0</th>\n",
       "      <td>Muebles</td>\n",
       "      <td>4</td>\n",
       "    </tr>\n",
       "    <tr>\n",
       "      <th>1</th>\n",
       "      <td>Electrónica</td>\n",
       "      <td>3</td>\n",
       "    </tr>\n",
       "  </tbody>\n",
       "</table>\n",
       "</div>"
      ],
      "text/plain": [
       "     categoria  total_vendidos\n",
       "0      Muebles               4\n",
       "1  Electrónica               3"
      ]
     },
     "execution_count": 6,
     "metadata": {},
     "output_type": "execute_result"
    }
   ],
   "source": [
    "# Se calcula la cantidad total de productos vendidos por categoría\n",
    "query_cat_sales = \"\"\"\n",
    "SELECT \n",
    "    p.category AS categoria,\n",
    "    SUM(oi.quantity) AS total_vendidos\n",
    "FROM order_items oi\n",
    "JOIN products p ON oi.product_id = p.id\n",
    "GROUP BY categoria\n",
    "ORDER BY total_vendidos DESC;\n",
    "\"\"\"\n",
    "\n",
    "cat_sales = pd.read_sql_query(query_cat_sales, conn)\n",
    "cat_sales\n"
   ]
  },
  {
   "cell_type": "markdown",
   "id": "fdcebaed",
   "metadata": {},
   "source": [
    "**Conclusión:**  \n",
    "Se observa que la categoría con mayor número de unidades vendidas es `Muebles`, seguida de `Electrónica`.  \n",
    "Este resultado sugiere que, dentro del periodo analizado, la demanda se concentra en artículos de mobiliario, lo que podría estar vinculado a campañas comerciales, estacionalidad o cambios en las necesidades del cliente.  \n",
    "Contar con este tipo de indicadores permite priorizar la gestión de inventarios, optimizar la asignación de recursos y enfocar las estrategias de marketing en las categorías de mayor rotación, sin descuidar aquellas con menor participación para identificar oportunidades de crecimiento."
   ]
  },
  {
   "cell_type": "markdown",
   "id": "2c8e40b4",
   "metadata": {},
   "source": [
    "### **2. Total acumulado gastado por cliente**\n",
    "Se agrega una columna que muestra el gasto acumulado de cada cliente en el tiempo, ordenado por fecha del pedido. Esto permite identificar patrones de consumo y clientes de alto valor.\n"
   ]
  },
  {
   "cell_type": "code",
   "execution_count": 7,
   "id": "481c042d",
   "metadata": {},
   "outputs": [
    {
     "data": {
      "application/vnd.microsoft.datawrangler.viewer.v0+json": {
       "columns": [
        {
         "name": "index",
         "rawType": "int64",
         "type": "integer"
        },
        {
         "name": "cliente",
         "rawType": "object",
         "type": "string"
        },
        {
         "name": "fecha_pedido",
         "rawType": "object",
         "type": "string"
        },
        {
         "name": "monto_pedido",
         "rawType": "float64",
         "type": "float"
        },
        {
         "name": "gasto_acumulado",
         "rawType": "float64",
         "type": "float"
        }
       ],
       "ref": "e4d8ebab-ebc7-4a74-ab95-9554bc679d24",
       "rows": [
        [
         "0",
         "Juan Pérez",
         "2023-04-10",
         "150.0",
         "150.0"
        ],
        [
         "1",
         "Juan Pérez",
         "2023-06-05",
         "75.0",
         "225.0"
        ],
        [
         "2",
         "Laura Gómez",
         "2023-05-20",
         "200.0",
         "200.0"
        ]
       ],
       "shape": {
        "columns": 4,
        "rows": 3
       }
      },
      "text/html": [
       "<div>\n",
       "<style scoped>\n",
       "    .dataframe tbody tr th:only-of-type {\n",
       "        vertical-align: middle;\n",
       "    }\n",
       "\n",
       "    .dataframe tbody tr th {\n",
       "        vertical-align: top;\n",
       "    }\n",
       "\n",
       "    .dataframe thead th {\n",
       "        text-align: right;\n",
       "    }\n",
       "</style>\n",
       "<table border=\"1\" class=\"dataframe\">\n",
       "  <thead>\n",
       "    <tr style=\"text-align: right;\">\n",
       "      <th></th>\n",
       "      <th>cliente</th>\n",
       "      <th>fecha_pedido</th>\n",
       "      <th>monto_pedido</th>\n",
       "      <th>gasto_acumulado</th>\n",
       "    </tr>\n",
       "  </thead>\n",
       "  <tbody>\n",
       "    <tr>\n",
       "      <th>0</th>\n",
       "      <td>Juan Pérez</td>\n",
       "      <td>2023-04-10</td>\n",
       "      <td>150.0</td>\n",
       "      <td>150.0</td>\n",
       "    </tr>\n",
       "    <tr>\n",
       "      <th>1</th>\n",
       "      <td>Juan Pérez</td>\n",
       "      <td>2023-06-05</td>\n",
       "      <td>75.0</td>\n",
       "      <td>225.0</td>\n",
       "    </tr>\n",
       "    <tr>\n",
       "      <th>2</th>\n",
       "      <td>Laura Gómez</td>\n",
       "      <td>2023-05-20</td>\n",
       "      <td>200.0</td>\n",
       "      <td>200.0</td>\n",
       "    </tr>\n",
       "  </tbody>\n",
       "</table>\n",
       "</div>"
      ],
      "text/plain": [
       "       cliente fecha_pedido  monto_pedido  gasto_acumulado\n",
       "0   Juan Pérez   2023-04-10         150.0            150.0\n",
       "1   Juan Pérez   2023-06-05          75.0            225.0\n",
       "2  Laura Gómez   2023-05-20         200.0            200.0"
      ]
     },
     "execution_count": 7,
     "metadata": {},
     "output_type": "execute_result"
    }
   ],
   "source": [
    "# Se calcula el gasto acumulado por cliente ordenado por fecha\n",
    "query_cumulative = \"\"\"\n",
    "SELECT \n",
    "    c.name AS cliente,\n",
    "    o.order_date AS fecha_pedido,\n",
    "    o.total_amount AS monto_pedido,\n",
    "    SUM(o.total_amount) OVER (PARTITION BY c.id ORDER BY o.order_date) AS gasto_acumulado\n",
    "FROM orders o\n",
    "JOIN customers c ON o.customer_id = c.id\n",
    "ORDER BY cliente, fecha_pedido;\n",
    "\"\"\"\n",
    "\n",
    "cumulative = pd.read_sql_query(query_cumulative, conn)\n",
    "cumulative\n"
   ]
  },
  {
   "cell_type": "markdown",
   "id": "685d47c2",
   "metadata": {},
   "source": [
    "**Conclusión:**  \n",
    "Se logra visualizar cómo evoluciona el gasto de cada cliente a lo largo del tiempo, identificando no solo el monto total invertido, sino también la frecuencia y el comportamiento de compra.  \n",
    "\n",
    "Este indicador es esencial para el diseño de programas de fidelización, ya que permite segmentar clientes según su valor acumulado, anticipar necesidades y priorizar acciones comerciales hacia aquellos con mayor potencial de recompra.  \n",
    "Además, facilita la detección temprana de clientes inactivos, lo que abre la puerta a estrategias de reactivación específicas."
   ]
  },
  {
   "cell_type": "markdown",
   "id": "bf580d95",
   "metadata": {},
   "source": [
    "### **3. Productos nunca vendidos**\n",
    "Se identifican los productos que no tienen registros en la tabla `order_items`, lo que permite detectar oportunidades para optimizar el catálogo.\n"
   ]
  },
  {
   "cell_type": "code",
   "execution_count": 8,
   "id": "fad666d1",
   "metadata": {},
   "outputs": [
    {
     "data": {
      "application/vnd.microsoft.datawrangler.viewer.v0+json": {
       "columns": [
        {
         "name": "index",
         "rawType": "int64",
         "type": "integer"
        },
        {
         "name": "id",
         "rawType": "object",
         "type": "string"
        },
        {
         "name": "name",
         "rawType": "object",
         "type": "string"
        },
        {
         "name": "category",
         "rawType": "object",
         "type": "string"
        }
       ],
       "ref": "49cf6ccc-e332-4566-9cc5-8c4bfecd7fae",
       "rows": [],
       "shape": {
        "columns": 3,
        "rows": 0
       }
      },
      "text/html": [
       "<div>\n",
       "<style scoped>\n",
       "    .dataframe tbody tr th:only-of-type {\n",
       "        vertical-align: middle;\n",
       "    }\n",
       "\n",
       "    .dataframe tbody tr th {\n",
       "        vertical-align: top;\n",
       "    }\n",
       "\n",
       "    .dataframe thead th {\n",
       "        text-align: right;\n",
       "    }\n",
       "</style>\n",
       "<table border=\"1\" class=\"dataframe\">\n",
       "  <thead>\n",
       "    <tr style=\"text-align: right;\">\n",
       "      <th></th>\n",
       "      <th>id</th>\n",
       "      <th>name</th>\n",
       "      <th>category</th>\n",
       "    </tr>\n",
       "  </thead>\n",
       "  <tbody>\n",
       "  </tbody>\n",
       "</table>\n",
       "</div>"
      ],
      "text/plain": [
       "Empty DataFrame\n",
       "Columns: [id, name, category]\n",
       "Index: []"
      ]
     },
     "execution_count": 8,
     "metadata": {},
     "output_type": "execute_result"
    }
   ],
   "source": [
    "# Productos que nunca han sido vendidos\n",
    "query_unsold = \"\"\"\n",
    "SELECT \n",
    "    p.id,\n",
    "    p.name,\n",
    "    p.category\n",
    "FROM products p\n",
    "LEFT JOIN order_items oi ON p.id = oi.product_id\n",
    "WHERE oi.product_id IS NULL;\n",
    "\"\"\"\n",
    "\n",
    "unsold = pd.read_sql_query(query_unsold, conn)\n",
    "unsold\n"
   ]
  },
  {
   "cell_type": "markdown",
   "id": "b7dfb142",
   "metadata": {},
   "source": [
    "**Conclusión:**  \n",
    "La consulta confirma que, en el periodo y dataset analizado, **no existen productos sin ventas registradas**.  \n",
    "Esto indica que, al menos en esta muestra, la rotación de inventario es completa y no se evidencian referencias inactivas.  \n",
    "\n",
    "En un contexto real, este resultado serviría como punto de control positivo, aunque se recomienda ejecutar esta validación periódicamente para anticipar posibles acumulaciones de inventario o problemas de comercialización.\n",
    "\n"
   ]
  },
  {
   "cell_type": "markdown",
   "id": "3058c3fb",
   "metadata": {},
   "source": [
    "### **4. Vista: `customer_order_summary`**\n",
    "Se crea una vista que consolida información clave por cliente: nombre, número total de pedidos y monto total gastado.\n"
   ]
  },
  {
   "cell_type": "code",
   "execution_count": 9,
   "id": "ce61ca0f",
   "metadata": {},
   "outputs": [
    {
     "data": {
      "application/vnd.microsoft.datawrangler.viewer.v0+json": {
       "columns": [
        {
         "name": "index",
         "rawType": "int64",
         "type": "integer"
        },
        {
         "name": "cliente",
         "rawType": "object",
         "type": "string"
        },
        {
         "name": "total_pedidos",
         "rawType": "int64",
         "type": "integer"
        },
        {
         "name": "total_gastado",
         "rawType": "float64",
         "type": "float"
        }
       ],
       "ref": "25eb31cc-4a5c-472b-82e8-0b49764990b9",
       "rows": [
        [
         "0",
         "Juan Pérez",
         "2",
         "225.0"
        ],
        [
         "1",
         "Laura Gómez",
         "1",
         "200.0"
        ]
       ],
       "shape": {
        "columns": 3,
        "rows": 2
       }
      },
      "text/html": [
       "<div>\n",
       "<style scoped>\n",
       "    .dataframe tbody tr th:only-of-type {\n",
       "        vertical-align: middle;\n",
       "    }\n",
       "\n",
       "    .dataframe tbody tr th {\n",
       "        vertical-align: top;\n",
       "    }\n",
       "\n",
       "    .dataframe thead th {\n",
       "        text-align: right;\n",
       "    }\n",
       "</style>\n",
       "<table border=\"1\" class=\"dataframe\">\n",
       "  <thead>\n",
       "    <tr style=\"text-align: right;\">\n",
       "      <th></th>\n",
       "      <th>cliente</th>\n",
       "      <th>total_pedidos</th>\n",
       "      <th>total_gastado</th>\n",
       "    </tr>\n",
       "  </thead>\n",
       "  <tbody>\n",
       "    <tr>\n",
       "      <th>0</th>\n",
       "      <td>Juan Pérez</td>\n",
       "      <td>2</td>\n",
       "      <td>225.0</td>\n",
       "    </tr>\n",
       "    <tr>\n",
       "      <th>1</th>\n",
       "      <td>Laura Gómez</td>\n",
       "      <td>1</td>\n",
       "      <td>200.0</td>\n",
       "    </tr>\n",
       "  </tbody>\n",
       "</table>\n",
       "</div>"
      ],
      "text/plain": [
       "       cliente  total_pedidos  total_gastado\n",
       "0   Juan Pérez              2          225.0\n",
       "1  Laura Gómez              1          200.0"
      ]
     },
     "execution_count": 9,
     "metadata": {},
     "output_type": "execute_result"
    }
   ],
   "source": [
    "# Creación de la vista\n",
    "create_view = \"\"\"\n",
    "CREATE VIEW customer_order_summary AS\n",
    "SELECT \n",
    "    c.name AS cliente,\n",
    "    COUNT(o.id) AS total_pedidos,\n",
    "    SUM(o.total_amount) AS total_gastado\n",
    "FROM customers c\n",
    "JOIN orders o ON c.id = o.customer_id\n",
    "GROUP BY c.name;\n",
    "\"\"\"\n",
    "conn.execute(\"DROP VIEW IF EXISTS customer_order_summary\")\n",
    "conn.execute(create_view)\n",
    "\n",
    "# Consultar la vista\n",
    "summary = pd.read_sql_query(\"SELECT * FROM customer_order_summary\", conn)\n",
    "summary\n"
   ]
  },
  {
   "cell_type": "markdown",
   "id": "8d40ee59",
   "metadata": {},
   "source": [
    "**Conclusión:**  \n",
    "La vista `customer_order_summary` consolida información clave de cada cliente, mostrando el número total de pedidos y el monto total gastado.  \n",
    "En este caso, se observa que **Juan Pérez** ha realizado 2 pedidos por un valor acumulado de 225, mientras que **Laura Gómez** ha realizado 1 pedido por un valor de 200. \n",
    " \n",
    "Este tipo de vista es útil para alimentar reportes recurrentes y dashboards comerciales, así como para segmentar clientes según su volumen de compras, priorizar esfuerzos de fidelización y detectar perfiles con mayor potencial de retención o ventas adicionales.\n",
    "\n"
   ]
  },
  {
   "cell_type": "markdown",
   "id": "1cd743ea",
   "metadata": {},
   "source": []
  }
 ],
 "metadata": {
  "kernelspec": {
   "display_name": ".venv",
   "language": "python",
   "name": "python3"
  },
  "language_info": {
   "codemirror_mode": {
    "name": "ipython",
    "version": 3
   },
   "file_extension": ".py",
   "mimetype": "text/x-python",
   "name": "python",
   "nbconvert_exporter": "python",
   "pygments_lexer": "ipython3",
   "version": "3.11.0"
  }
 },
 "nbformat": 4,
 "nbformat_minor": 5
}
